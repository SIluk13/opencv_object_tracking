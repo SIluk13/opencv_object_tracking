{
 "cells": [
  {
   "cell_type": "code",
   "execution_count": 1,
   "metadata": {},
   "outputs": [],
   "source": [
    "import cv2"
   ]
  },
  {
   "cell_type": "code",
   "execution_count": 2,
   "metadata": {},
   "outputs": [],
   "source": [
    "def frame_diff (prev_frame, cur_frame, next_frame):\n",
    "    diff_frames_1 = cv2.absdiff(next_frame, cur_frame)\n",
    "    diff_frames_2 = cv2.absdiff(cur_frame, prev_frame)\n",
    "    \n",
    "    return cv2.bitwise_and(diff_frames_1, diff_frames_2)"
   ]
  },
  {
   "cell_type": "code",
   "execution_count": 3,
   "metadata": {},
   "outputs": [],
   "source": [
    "def get_frame(cap, scalling_factor):\n",
    "    _, frame =cap.read()\n",
    "    frame = cv2.resize(frame, None, fx = scalling_factor, fy=scalling_factor,interpolation=cv2.INTER_AREA)\n",
    "    gray=cv2.cvtColor(frame, cv2.COLOR_RGB2GRAY)\n",
    "    return gray"
   ]
  },
  {
   "cell_type": "code",
   "execution_count": 4,
   "metadata": {},
   "outputs": [],
   "source": [
    "if __name__ == '__main__':\n",
    "    cap=cv2.VideoCapture(0)\n",
    "    scalling_factor=0.5\n",
    "    prev_frame = get_frame(cap, scalling_factor)\n",
    "    cur_frame = get_frame(cap, scalling_factor)\n",
    "    next_frame = get_frame(cap, scalling_factor)\n",
    "    \n",
    "    while True:\n",
    "        cv2.imshow('Object Movement', frame_diff(prev_frame, cur_frame, next_frame))\n",
    "        prev_frame = cur_frame\n",
    "        cur_frame = next_frame\n",
    "        \n",
    "        next_frame = get_frame(cap, scalling_factor)\n",
    "        key = cv2.waitKey(10)\n",
    "        if key == 27:\n",
    "            break\n",
    "        \n",
    "    cv2.destroyAllWindows()"
   ]
  },
  {
   "cell_type": "code",
   "execution_count": null,
   "metadata": {},
   "outputs": [],
   "source": []
  },
  {
   "cell_type": "markdown",
   "metadata": {},
   "source": [
    "## Tracking object using colorspaces"
   ]
  },
  {
   "cell_type": "code",
   "execution_count": 5,
   "metadata": {},
   "outputs": [],
   "source": [
    "import cv2\n",
    "import numpy as np"
   ]
  },
  {
   "cell_type": "code",
   "execution_count": 6,
   "metadata": {},
   "outputs": [],
   "source": [
    "def get_frame(cap, scalling_factor):\n",
    "    _,frame = cap.read()\n",
    "    frame = cv2.resize(frame, None, fx=scalling_factor, fy=scalling_factor, interpolation=cv2.INTER_AREA)\n",
    "    \n",
    "    return frame"
   ]
  },
  {
   "cell_type": "code",
   "execution_count": null,
   "metadata": {},
   "outputs": [],
   "source": [
    "if __name__ == '__main__':\n",
    "    cap=cv2.VideoCapture(0)\n",
    "    scalling_factor=0.5\n",
    "    \n",
    "    while True:\n",
    "        frame=get_frame(cap, scalling_factor)\n",
    "        hsv=cv2.cvtColor(frame, cv2.COLOR_BGR2HSV)\n",
    "        lower=np.array([0, 70, 60])\n",
    "        upper=np.array([50, 150, 255])\n",
    "        mask=cv2.inRange(hsv, lower, upper)\n",
    "        img_bitwise_and=cv2.bitwise_and(frame, frame, mask=mask)\n",
    "        img_median_blurred=cv2.medianBlur(img_bitwise_and, 5)\n",
    "        cv2.imshow('Input', frame)\n",
    "        cv2.imshow('output', img_median_blurred)\n",
    "        \n",
    "        c=cv2.waitKey(5)\n",
    "        if c==27:\n",
    "            break\n",
    "    cv2.destroyAllWindows()"
   ]
  },
  {
   "cell_type": "code",
   "execution_count": null,
   "metadata": {},
   "outputs": [],
   "source": []
  }
 ],
 "metadata": {
  "kernelspec": {
   "display_name": "Python 3",
   "language": "python",
   "name": "python3"
  },
  "language_info": {
   "codemirror_mode": {
    "name": "ipython",
    "version": 3
   },
   "file_extension": ".py",
   "mimetype": "text/x-python",
   "name": "python",
   "nbconvert_exporter": "python",
   "pygments_lexer": "ipython3",
   "version": "3.7.3"
  }
 },
 "nbformat": 4,
 "nbformat_minor": 2
}
